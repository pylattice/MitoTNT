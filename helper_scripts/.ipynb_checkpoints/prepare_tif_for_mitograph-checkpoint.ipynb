{
 "cells": [
  {
   "cell_type": "markdown",
   "id": "71b9b8c7",
   "metadata": {},
   "source": [
    "This script can be used to convert 4D image stacks into the given data structure needed for MitoGraph segmentation and subsequent tracking.\\\n",
    "Note that you will still need to perform cell segmentation separately before or after this step. Otherwise the images will be too big to be processed.\n",
    "\n",
    "Example directory structure:\n",
    "- frame_0/frame_0.tif\n",
    "- frame_1/frame_1.tif  \n",
    "  ......\n",
    "\n",
    "Major microscopy data formats are supported, including .tif, .czi, .nd2, etc. See more details [here](https://allencellmodeling.github.io/aicsimageio/)."
   ]
  },
  {
   "cell_type": "code",
   "execution_count": 1,
   "id": "07e46f21",
   "metadata": {},
   "outputs": [],
   "source": [
    "import os\n",
    "from shutil import rmtree\n",
    "import numpy as np\n",
    "from tqdm.notebook import trange\n",
    "from skimage.io import imsave\n",
    "from aicsimageio import AICSImage"
   ]
  },
  {
   "cell_type": "code",
   "execution_count": null,
   "id": "562304fb",
   "metadata": {
    "scrolled": false
   },
   "outputs": [],
   "source": [
    "movie_file = 'your_movie.czi'\n",
    "save_dir = './test/'\n",
    "reader = AICSImage(movie_file)"
   ]
  },
  {
   "cell_type": "code",
   "execution_count": null,
   "id": "4feeb075",
   "metadata": {},
   "outputs": [],
   "source": [
    "start_frame = 0\n",
    "end_frame = reader.shape[1]\n",
    "\n",
    "# overwrite old dir and create new empty directory if desired\n",
    "if os.path.isdir(save_dir):\n",
    "    rmtree(save_dir)\n",
    "    print('All old files are removed.')\n",
    "os.mkdir(save_dir)\n",
    "        \n",
    "for frame in trange(start_frame, end_frame):\n",
    "\n",
    "    mito_img = reader.get_image_dask_data('ZYX', S=0, C=mito_channel, T=frame) # load image at selected channel and time\n",
    "\n",
    "    # make dir and save for each frame\n",
    "    frame_dir = save_dir+'frame_'+str(frame)+'/'\n",
    "    os.mkdir(frame_dir)\n",
    "    imsave(frame_dir+'frame_'+str(frame)+'.tif', mito_img, check_contrast=False)\n",
    "    \n",
    "print('Done saving '+str(end_frame-start_frame)+' tiff files.')"
   ]
  }
 ],
 "metadata": {
  "kernelspec": {
   "display_name": "Python 3 (ipykernel)",
   "language": "python",
   "name": "python3"
  },
  "language_info": {
   "codemirror_mode": {
    "name": "ipython",
    "version": 3
   },
   "file_extension": ".py",
   "mimetype": "text/x-python",
   "name": "python",
   "nbconvert_exporter": "python",
   "pygments_lexer": "ipython3",
   "version": "3.10.0"
  }
 },
 "nbformat": 4,
 "nbformat_minor": 5
}
