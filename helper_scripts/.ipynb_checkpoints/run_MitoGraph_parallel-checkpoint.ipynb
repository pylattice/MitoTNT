{
 "cells": [
  {
   "cell_type": "code",
   "execution_count": 1,
   "id": "5412c80e",
   "metadata": {},
   "outputs": [],
   "source": [
    "import os\n",
    "from multiprocessing import Pool, cpu_count\n",
    "from tqdm.notebook import trange"
   ]
  },
  {
   "cell_type": "code",
   "execution_count": null,
   "id": "660a09fa",
   "metadata": {},
   "outputs": [],
   "source": [
    "# input the directory where each timestep z-stack is in its own folder\n",
    "mitograph_dir = '../test_data/mitograph/'\n",
    "\n",
    "# please edit your MitoGraph parameters here\n",
    "def run_mitograph_parallel(frame_dir):\n",
    "    lateral_pixel_size = 0.145\n",
    "    axial_pixel_size = 0.145\n",
    "    \n",
    "    os.system('MitoGraph -xy '+str(lateral_pixel_size)+' -z '+str(axial_pixel_size)+' -path '+frame_dir)"
   ]
  },
  {
   "cell_type": "code",
   "execution_count": null,
   "id": "0b2d6c30",
   "metadata": {
    "scrolled": false
   },
   "outputs": [],
   "source": [
    "all_frames = sorted(os.listdir(mitograph_dir))\n",
    "num_processes_parallel = int(cpu_count() * 0.8) # specify how many processes to use\n",
    "\n",
    "print(\"Number of processors available: \", cpu_count())\n",
    "print(\"Number of processors used: \", num_processes_parallel)\n",
    "print(\"Start parallel mitochondria segmentation...\")\n",
    "\n",
    "# this will iterate with until all frames are processed\n",
    "for iteration in trange(0, len(all_frames), num_processes_parallel):\n",
    "        with Pool(num_processes_parallel) as pool:\n",
    "        all_frame_dir = ['\"'+mitograph_dir+frame_dir+'\"' for frame_dir in all_frames[iteration:iteration+num_processes_parallel]]\n",
    "        pool.map(run_mitograph_parallel, all_frame_dir)"
   ]
  }
 ],
 "metadata": {
  "kernelspec": {
   "display_name": "Python 3 (ipykernel)",
   "language": "python",
   "name": "python3"
  },
  "language_info": {
   "codemirror_mode": {
    "name": "ipython",
    "version": 3
   },
   "file_extension": ".py",
   "mimetype": "text/x-python",
   "name": "python",
   "nbconvert_exporter": "python",
   "pygments_lexer": "ipython3",
   "version": "3.9.13"
  }
 },
 "nbformat": 4,
 "nbformat_minor": 5
}
