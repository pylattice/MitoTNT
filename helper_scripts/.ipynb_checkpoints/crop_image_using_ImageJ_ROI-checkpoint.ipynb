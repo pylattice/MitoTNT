{
 "cells": [
  {
   "cell_type": "code",
   "execution_count": null,
   "id": "65e147eb",
   "metadata": {},
   "outputs": [],
   "source": [
    "import numpy as np\n",
    "import os\n",
    "from tifffile import imread, imwrite\n",
    "from shutil import rmtree\n",
    "from tqdm.notebook import trange\n",
    "import subprocess\n",
    "import glob\n",
    "from tqdm import tqdm\n",
    "import time\n",
    "import roifile"
   ]
  },
  {
   "cell_type": "code",
   "execution_count": null,
   "id": "b3f6d0b5",
   "metadata": {},
   "outputs": [],
   "source": [
    "def normalize8(I):\n",
    "    \n",
    "    # use either global estimate or manual threshold\n",
    "    mx = I.max() \n",
    "    # mx = 10000\n",
    "\n",
    "    normalized = I / mx\n",
    "    normalized[normalized>1.0] = 1.0\n",
    "    new = normalized * 255.0\n",
    "    return new.astype(np.uint8) # 8-bit image is required for MitoGraph"
   ]
  },
  {
   "cell_type": "code",
   "execution_count": null,
   "id": "8237b9e3",
   "metadata": {
    "scrolled": true
   },
   "outputs": [],
   "source": [
    "# select the directory to the data\n",
    "processed_data_dir = '/run/user/1000/gvfs/smb-share:server=taurus0.jslab.ucsd.edu,share=processing/MOSAIC_Data/Processed_Data/'\n",
    "glob_string = processed_data_dir+'/*Example*/Sample */*/' # search glob wildcard identifier if you don't know\n",
    "all_sample_path = sorted(glob.glob(glob_string))\n",
    "for s in enumerate(all_sample_path):\n",
    "        print(s[0], s[1][104:])"
   ]
  },
  {
   "cell_type": "code",
   "execution_count": null,
   "id": "1ec0bbc2",
   "metadata": {},
   "outputs": [],
   "source": [
    "# use all paths above\n",
    "selected_path = all_sample_path\n",
    "selected_path\n",
    "\n",
    "# OR\n",
    "\n",
    "# # use index to choose a subset of paths\n",
    "# selected_id = []\n",
    "# selected_path = []\n",
    "# for i in selected_id:\n",
    "#     selected_path.append(all_sample_path[i])\n",
    "# selected_path"
   ]
  },
  {
   "cell_type": "code",
   "execution_count": null,
   "id": "7e6766c8",
   "metadata": {},
   "outputs": [],
   "source": [
    "# input the name of the experiment\n",
    "experiment_name = 'Example'\n",
    "\n",
    "# condition names for each movie with the same order as the selected path names above\n",
    "condition_names = ['Condition1'] * 3 + ['Condition2'] * 3\n",
    "print(condition_names)"
   ]
  },
  {
   "cell_type": "code",
   "execution_count": null,
   "id": "0b730ecb",
   "metadata": {},
   "outputs": [],
   "source": [
    "# the bottom and top z for ROIs, get from the image\n",
    "low_z, high_z = 70, 170\n",
    "\n",
    "# specify the channel of mitochondria given by the wavelength\n",
    "wavelength_mito = '488nm'"
   ]
  },
  {
   "cell_type": "code",
   "execution_count": null,
   "id": "9a5822a9",
   "metadata": {},
   "outputs": [],
   "source": [
    "# start indexing from 0\n",
    "current_roi_index = {}\n",
    "for name in condition_names:\n",
    "    if name not in current_roi_index.keys():\n",
    "        current_roi_index[name] = 0\n",
    "        \n",
    "# extract each timepoint into a folder for mitograph in all ROIs\n",
    "for sample_id, sample_path in tqdm(enumerate(selected_path)):\n",
    "\n",
    "    save_root_dir = '/run/user/1000/gvfs/smb-share:server=taurus0.jslab.ucsd.edu,share=processing/MOSAIC_Data/Analyzed_Data/'\n",
    "    save_dir = save_root_dir+experiment_name+'/'+condition_names[sample_id]+'/'\n",
    "    if not os.path.isdir(save_dir):\n",
    "        os.makedirs(save_dir)\n",
    "\n",
    "    mito_tif_list = sorted(glob.glob(sample_path+'/*'+wavelength_mito+'*tif'))\n",
    "    \n",
    "    # load prepared ROI files\n",
    "    roi_names = os.listdir(sample_path+'ROI/') # make sure this folder has individual .roi files\n",
    "    rois = [roifile.ImagejRoi.fromfile(sample_path+'/ROI/'+name) for name in roi_names if '.roi' in name]\n",
    "\n",
    "    if len(rois) < 1:\n",
    "        continue\n",
    "        \n",
    "    for frame in trange(len(mito_tif_list)): # loop all timepoints\n",
    "    # for frame in trange(1): # test first frame (recommended for first time, check first!)\n",
    "\n",
    "        t1 = time.time()\n",
    "        full_data = imread(mito_tif_list[frame])\n",
    "        print('Current file:', mito_tif_list[frame])\n",
    "        t2 = time.time()\n",
    "        print('Read speed:', round((full_data.size*full_data.itemsize/10**6) / (t2-t1), 2), 'MB/s')\n",
    "\n",
    "        for index, roi in enumerate(rois):\n",
    "            roi_id = current_roi_index[condition_names[sample_id]]+index\n",
    "            roi_id_dir = save_dir+'roi_id_'+str(roi_id)+'/'\n",
    "            if not os.path.isdir(roi_id_dir):\n",
    "                os.mkdir(roi_id_dir)\n",
    "                os.mkdir(roi_id_dir+'mitograph/')\n",
    "            zstart,zend,ystart,yend,xstart,xend = [low_z,high_z,roi.top,roi.bottom,roi.left,roi.right]\n",
    "\n",
    "            cropped_data = full_data[zstart:zend, ystart:yend, xstart:xend]\n",
    "            cropped_data = normalize8(cropped_data)\n",
    "\n",
    "            # make dir and save for each frame\n",
    "            frame_dir = roi_id_dir+'mitograph/frame_'+str(frame)+'/'\n",
    "            if not os.path.isdir(frame_dir):\n",
    "                os.mkdir(frame_dir)\n",
    "                \n",
    "            print('Writing ROI', roi_id)\n",
    "            imwrite(frame_dir+'frame_'+str(frame)+'.tif', cropped_data)\n",
    "\n",
    "    current_roi_index[condition_names[sample_id]] += len(rois) # update # roi for this condition"
   ]
  }
 ],
 "metadata": {
  "kernelspec": {
   "display_name": "Python 3 (ipykernel)",
   "language": "python",
   "name": "python3"
  },
  "language_info": {
   "codemirror_mode": {
    "name": "ipython",
    "version": 3
   },
   "file_extension": ".py",
   "mimetype": "text/x-python",
   "name": "python",
   "nbconvert_exporter": "python",
   "pygments_lexer": "ipython3",
   "version": "3.10.11"
  }
 },
 "nbformat": 4,
 "nbformat_minor": 5
}
