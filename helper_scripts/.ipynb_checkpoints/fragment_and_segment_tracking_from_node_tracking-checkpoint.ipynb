{
 "cells": [
  {
   "cell_type": "code",
   "execution_count": null,
   "metadata": {},
   "outputs": [],
   "source": [
    "cd ..\n",
    "pwd"
   ]
  },
  {
   "cell_type": "code",
   "execution_count": null,
   "metadata": {},
   "outputs": [],
   "source": [
    "from mitotnt.track_fragments_segments import *\n",
    "\n",
    "import warnings\n",
    "warnings.filterwarnings(\"ignore\")\n",
    "mlab.options.offscreen = True\n",
    "\n",
    "# update functions everytime after changes made\n",
    "%load_ext autoreload\n",
    "%autoreload 2"
   ]
  },
  {
   "cell_type": "markdown",
   "metadata": {},
   "source": [
    "### Fragment tracking"
   ]
  },
  {
   "cell_type": "code",
   "execution_count": null,
   "metadata": {},
   "outputs": [],
   "source": [
    "# Set data paths\n",
    "track_dir = './test_data/tracking_outputs/final_node_tracks.csv'\n",
    "output_dir = '.test_data/tracking_outputs/fragment_tracking/'"
   ]
  },
  {
   "cell_type": "code",
   "execution_count": null,
   "metadata": {},
   "outputs": [],
   "source": [
    "# Plot full cascade, i.e. first 100 fragments\n",
    "%matplotlib notebook\n",
    "plotCascade(track_dir, output_dir, \n",
    "            num_frames=3, start_frame=10, frame_step=1,\n",
    "            level='fragment', frag_range=range(100), compute_fragment_metrics=False,\n",
    "            voxel_size=0.25, scale=0.5, view_params=(60,-40,100))"
   ]
  },
  {
   "cell_type": "code",
   "execution_count": null,
   "metadata": {},
   "outputs": [],
   "source": [
    "fig = plt.figure(figsize=(9, 6))\n",
    "@interact(frame = (0, 3))\n",
    "def update(frame = 0):\n",
    "    image = plt.imread(output_dir+'/frame_{}.png'.format(frame))\n",
    "    plt.imshow(image)\n",
    "    fig.canvas.draw()"
   ]
  },
  {
   "cell_type": "markdown",
   "metadata": {},
   "source": [
    "### Segment tracking"
   ]
  },
  {
   "cell_type": "code",
   "execution_count": null,
   "metadata": {},
   "outputs": [],
   "source": [
    "# Set data paths\n",
    "track_dir = '.test_data/tracking_outputs/final_node_tracks.csv'\n",
    "output_dir = '.test_data/tracking_outputs/segment_tracking/'"
   ]
  },
  {
   "cell_type": "code",
   "execution_count": null,
   "metadata": {},
   "outputs": [],
   "source": [
    "# Plot full cascade, i.e. first 100 fragments\n",
    "%matplotlib notebook\n",
    "plotCascade(track_dir, output_dir, \n",
    "            num_frames=3, start_frame=10, frame_step=1,\n",
    "            level='segment', frag_range=range(100), compute_fragment_metrics=False,\n",
    "            voxel_size=0.25, scale=0.5, view_params=(60,-40,100))"
   ]
  },
  {
   "cell_type": "code",
   "execution_count": null,
   "metadata": {},
   "outputs": [],
   "source": [
    "fig = plt.figure(figsize=(9, 6))\n",
    "@interact(frame = (0, 3))\n",
    "def update(frame = 0):\n",
    "    image = plt.imread(output_dir+'/frame_{}.png'.format(frame))\n",
    "    plt.imshow(image)\n",
    "    fig.canvas.draw()"
   ]
  }
 ],
 "metadata": {
  "kernelspec": {
   "display_name": "Python 3 (ipykernel)",
   "language": "python",
   "name": "python3"
  },
  "language_info": {
   "codemirror_mode": {
    "name": "ipython",
    "version": 3
   },
   "file_extension": ".py",
   "mimetype": "text/x-python",
   "name": "python",
   "nbconvert_exporter": "python",
   "pygments_lexer": "ipython3",
   "version": "3.10.0"
  }
 },
 "nbformat": 4,
 "nbformat_minor": 4
}
