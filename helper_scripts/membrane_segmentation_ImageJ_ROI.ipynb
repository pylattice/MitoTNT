{
 "cells": [
  {
   "cell_type": "code",
   "execution_count": null,
   "id": "65e147eb",
   "metadata": {},
   "outputs": [],
   "source": [
    "import numpy as np\n",
    "import os\n",
    "from tifffile import imread, imsave\n",
    "from shutil import rmtree\n",
    "from tqdm.notebook import trange\n",
    "import subprocess"
   ]
  },
  {
   "cell_type": "code",
   "execution_count": null,
   "id": "b3f6d0b5",
   "metadata": {},
   "outputs": [],
   "source": [
    "def normalize8(I):\n",
    "    mn = I.min()\n",
    "    mx = I.max()\n",
    "    mx -= mn\n",
    "    I = ((I - mn)/mx) * 255.0\n",
    "    return I.astype(np.uint8)"
   ]
  },
  {
   "cell_type": "code",
   "execution_count": null,
   "id": "61bd108e",
   "metadata": {},
   "outputs": [],
   "source": [
    "# root directory for all data\n",
    "data_path = '/run/user/1000/gvfs/smb-share:server=bigbox.ucsd.edu,share=schoeneberg/MOSAIC_Data/Processed_Data/Zach Stem Cell/'\n",
    "# the directory the specific experiment\n",
    "exp_name = '20221103 Zach/Sample 2/1/'\n",
    "mitograph_path = data_path+exp_name+'mitograph/'\n",
    "\n",
    "if not os.path.isdir(mitograph_path):\n",
    "    os.mkdir(mitograph_path)\n",
    "    \n",
    "tif_list = []\n",
    "for tif_name in sorted(os.listdir(data_path+exp_name)):\n",
    "    if '488' in tif_name: # based on the channel\n",
    "        tif_list.append(data_path+exp_name+tif_name)\n",
    "\n",
    "# get the indices from the region you are interested in ImageJ\n",
    "xstart = 478\n",
    "xend = 727\n",
    "ystart = 206\n",
    "yend = 457\n",
    "zstart = 42\n",
    "zend = 230\n",
    "\n",
    "for frame in trange(len(tif_list)):\n",
    "    tif = imread(tif_list[frame])\n",
    "    roi = tif[zstart:zend, ystart:yend, xstart:xend]\n",
    "    roi = normalize8(roi)\n",
    "\n",
    "    # make dir for each frame\n",
    "    frame_dir = mitograph_path+\"frame_\"+str(frame)+\"/\"\n",
    "\n",
    "    # remove old dir (be careful)\n",
    "    if os.path.isdir(frame_dir):\n",
    "        rmtree(frame_dir)\n",
    "    os.mkdir(frame_dir)\n",
    "\n",
    "    imsave(frame_dir+\"frame_\"+str(frame)+\".tif\", roi.astype('uint8'))"
   ]
  }
 ],
 "metadata": {
  "kernelspec": {
   "display_name": "Python 3 (ipykernel)",
   "language": "python",
   "name": "python3"
  },
  "language_info": {
   "codemirror_mode": {
    "name": "ipython",
    "version": 3
   },
   "file_extension": ".py",
   "mimetype": "text/x-python",
   "name": "python",
   "nbconvert_exporter": "python",
   "pygments_lexer": "ipython3",
   "version": "3.8.15"
  }
 },
 "nbformat": 4,
 "nbformat_minor": 5
}
