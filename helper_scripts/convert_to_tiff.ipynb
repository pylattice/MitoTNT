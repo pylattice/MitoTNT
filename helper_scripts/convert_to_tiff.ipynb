{
 "cells": [
  {
   "cell_type": "code",
   "execution_count": 1,
   "id": "07e46f21",
   "metadata": {},
   "outputs": [],
   "source": [
    "import os\n",
    "from shutil import rmtree\n",
    "import numpy as np\n",
    "from tqdm.notebook import trange\n",
    "from skimage.io import imsave\n",
    "from aicsimageio import AICSImage"
   ]
  },
  {
   "cell_type": "code",
   "execution_count": null,
   "id": "562304fb",
   "metadata": {
    "scrolled": false
   },
   "outputs": [],
   "source": [
    "movie_file = './movie.nd2'\n",
    "save_dir = './tif_folder/'\n",
    "reader = AICSImage(movie_file)"
   ]
  },
  {
   "cell_type": "code",
   "execution_count": null,
   "id": "4feeb075",
   "metadata": {},
   "outputs": [],
   "source": [
    "start_frame = 0\n",
    "end_frame = reader.shape[1]\n",
    "\n",
    "# overwrite old dir and create new empty directory if desired\n",
    "if os.path.isdir(save_dir):\n",
    "    rmtree(save_dir)\n",
    "    print('All old files are removed.')\n",
    "os.mkdir(save_dir)\n",
    "        \n",
    "for frame in trange(start_frame, end_frame):\n",
    "\n",
    "    mito_img = reader.get_image_dask_data('ZYX', S=0, C=mito_channel, T=frame) # load image at selected channel and time\n",
    "\n",
    "    # make dir and save for each frame\n",
    "    imsave(save_dir+'frame_'+str(frame)+'.tif', mito_img, check_contrast=False)\n",
    "    \n",
    "print('Done saving '+str(end_frame-start_frame)+' tiff files.')"
   ]
  }
 ],
 "metadata": {
  "kernelspec": {
   "display_name": "Python 3 (ipykernel)",
   "language": "python",
   "name": "python3"
  },
  "language_info": {
   "codemirror_mode": {
    "name": "ipython",
    "version": 3
   },
   "file_extension": ".py",
   "mimetype": "text/x-python",
   "name": "python",
   "nbconvert_exporter": "python",
   "pygments_lexer": "ipython3",
   "version": "3.10.11"
  }
 },
 "nbformat": 4,
 "nbformat_minor": 5
}
