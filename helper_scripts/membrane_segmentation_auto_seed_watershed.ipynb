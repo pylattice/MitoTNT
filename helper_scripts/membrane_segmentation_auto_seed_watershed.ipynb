{
 "cells": [
  {
   "cell_type": "code",
   "execution_count": null,
   "id": "3af82410",
   "metadata": {},
   "outputs": [],
   "source": [
    "import numpy as np\n",
    "\n",
    "# package for 3d visualization\n",
    "from itkwidgets import view                              \n",
    "from aicssegmentation.core.visual import seg_fluo_side_by_side, single_fluorescent_view, segmentation_quick_view\n",
    "import matplotlib.pyplot as plt\n",
    "\n",
    "# package for io\n",
    "import os\n",
    "from shutil import rmtree\n",
    "import skimage\n",
    "from skimage.io import imread, imsave\n",
    "from aicsimageio import AICSImage\n",
    "\n",
    "# function for core algorithm\n",
    "from aicssegmentation.core.vessel import filament_2d_wrapper\n",
    "from aicssegmentation.core.pre_processing_utils import intensity_normalization, image_smoothing_gaussian_3d\n",
    "from skimage.morphology import disk, dilation, erosion, closing, opening, remove_small_objects, remove_small_holes\n",
    "from skimage.segmentation import watershed\n",
    "from skimage.measure import label, regionprops\n",
    "from skimage.filters import difference_of_gaussians as dog_filter"
   ]
  },
  {
   "cell_type": "markdown",
   "id": "17807ea6",
   "metadata": {},
   "source": [
    "### Load images"
   ]
  },
  {
   "cell_type": "code",
   "execution_count": null,
   "id": "6aa4c88f",
   "metadata": {},
   "outputs": [],
   "source": [
    "original_membrane_img = imread('./test_membrane_zstack.tif')\n",
    "output_dir = './segmentation/'\n",
    "print(original_membrane_img.shape)"
   ]
  },
  {
   "cell_type": "markdown",
   "id": "6c9f507a",
   "metadata": {},
   "source": [
    "### Check original image and decide the range in z"
   ]
  },
  {
   "cell_type": "code",
   "execution_count": null,
   "id": "bf5ce725",
   "metadata": {},
   "outputs": [],
   "source": [
    "bottom_z, top_z = 80, 150 # open in ImageJ and find the index of bottom and top of the cell layer\n",
    "# bottom_z, top_z = 0, original_membrane_img.shape[1] # if use the entire z-stack\n",
    "\n",
    "membrane_img = original_membrane_img[bottom_z:top_z]\n",
    "\n",
    "num_z = membrane_img.shape[0]\n",
    "\n",
    "print(membrane_img.shape)\n",
    "# z, y, x"
   ]
  },
  {
   "cell_type": "markdown",
   "id": "d5e6e7b5",
   "metadata": {},
   "source": [
    "### Normalization and smoothing"
   ]
  },
  {
   "cell_type": "code",
   "execution_count": null,
   "id": "870d99c9",
   "metadata": {},
   "outputs": [],
   "source": [
    "%%capture\n",
    "intensity_scaling_param = [3000]\n",
    "gaussian_smoothing_sigma = 1\n",
    "mid_z = num_z // 2\n",
    "\n",
    "# intensity normalization\n",
    "membrane_img_norm = intensity_normalization(membrane_img, scaling_param=intensity_scaling_param)\n",
    "\n",
    "# smoothing with 2d gaussian filter slice by slice\n",
    "membrane_img_smooth = image_smoothing_gaussian_3d(membrane_img_norm, sigma=gaussian_smoothing_sigma)\n",
    "\n",
    "imsave(output_dir+'smooth_membrane_mid_z.tif', membrane_img_smooth[mid_z])\n",
    "imsave(output_dir+'smooth_membrane_all_z.tif', membrane_img_smooth)"
   ]
  },
  {
   "cell_type": "code",
   "execution_count": null,
   "id": "d279a1e5",
   "metadata": {},
   "outputs": [],
   "source": [
    "view(single_fluorescent_view(membrane_img_smooth))"
   ]
  },
  {
   "cell_type": "markdown",
   "id": "46dcc2ee",
   "metadata": {},
   "source": [
    "### optional image processing routines"
   ]
  },
  {
   "cell_type": "code",
   "execution_count": null,
   "id": "bd29bebe",
   "metadata": {},
   "outputs": [],
   "source": [
    "# extracted = closing(membrane_img_smooth[mid_z], disk(10))\n",
    "# view(extracted)"
   ]
  },
  {
   "cell_type": "code",
   "execution_count": null,
   "id": "aa6c59f3",
   "metadata": {
    "scrolled": true
   },
   "outputs": [],
   "source": [
    "# # from skimage.feature import blob_dog, blob_doh, blob_log\n",
    "# extracted = blob_log(membrane_img_smooth[mid_z], 10, 100)\n",
    "# view(extracted)"
   ]
  },
  {
   "cell_type": "markdown",
   "id": "6a0601a8",
   "metadata": {},
   "source": [
    "### 2D membrane contour segmentation"
   ]
  },
  {
   "cell_type": "code",
   "execution_count": null,
   "id": "d60191cf",
   "metadata": {},
   "outputs": [],
   "source": [
    "view(membrane_img_smooth[mid_z])"
   ]
  },
  {
   "cell_type": "code",
   "execution_count": null,
   "id": "092f5abe",
   "metadata": {
    "scrolled": false
   },
   "outputs": [],
   "source": [
    "# Smaller cutoff_x may yield more filaments, especially detecting more dim ones and thicker segmentation.\n",
    "# Larger cutoff_x could be less permisive and yield less filaments and slimmer segmentation.\n",
    "\n",
    "f2_param = [[8, 0.4]]\n",
    "membrane_mid_z = filament_2d_wrapper(membrane_img_smooth[mid_z], f2_param)\n",
    "view(segmentation_quick_view(membrane_mid_z[np.newaxis])) # has to be 3D, click the projection buttion in the pannel"
   ]
  },
  {
   "cell_type": "code",
   "execution_count": null,
   "id": "cf61fdb7",
   "metadata": {
    "scrolled": false
   },
   "outputs": [],
   "source": [
    "membrane_mid_z_filtered = remove_small_objects(membrane_mid_z, min_size=1000, in_place=False)\n",
    "view(segmentation_quick_view(membrane_mid_z_filtered))"
   ]
  },
  {
   "cell_type": "markdown",
   "id": "c1bef4d9",
   "metadata": {},
   "source": [
    "### optional image processing routines"
   ]
  },
  {
   "cell_type": "code",
   "execution_count": null,
   "id": "54b000d3",
   "metadata": {
    "scrolled": false
   },
   "outputs": [],
   "source": [
    "dilated = dilation(membrane_mid_z_filtered, selem=disk(15))\n",
    "view(segmentation_quick_view(dilated))"
   ]
  },
  {
   "cell_type": "code",
   "execution_count": null,
   "id": "f66ac6b8",
   "metadata": {},
   "outputs": [],
   "source": [
    "closed = closing(dilated, disk(10))\n",
    "view(segmentation_quick_view(dilated))"
   ]
  },
  {
   "cell_type": "markdown",
   "id": "5782c20c",
   "metadata": {},
   "source": [
    "### create seed for watershed using the automatically generated contour"
   ]
  },
  {
   "cell_type": "code",
   "execution_count": null,
   "id": "a791b0ef",
   "metadata": {},
   "outputs": [],
   "source": [
    "seed_z = label(~closed) # invert and then label each connected cluster\n",
    "imsave(output_dir+'auto_seed.tif', seed_z.astype('uint8'))"
   ]
  },
  {
   "cell_type": "code",
   "execution_count": null,
   "id": "f0f0e8f9",
   "metadata": {},
   "outputs": [],
   "source": [
    "# Open in ImageJ and convert the label of background to default 0\n",
    "for bg_index in [1,3]:\n",
    "    seed_z[(seed_z==bg_index)] = 0\n",
    "imsave(output_dir+'auto_seed.tif', seed_z.astype('uint8'))"
   ]
  },
  {
   "cell_type": "code",
   "execution_count": null,
   "id": "481b2a33",
   "metadata": {},
   "outputs": [],
   "source": [
    "# Open in ImageJ and correct the seed\n",
    "manual_seed = imread(output_dir+'manual_seed.tif')\n",
    "# manual_seed = imread(output_dir+'auto_seed.tif') # if no correction is needed\n",
    "\n",
    "manual_seed = label(manual_seed)\n",
    "manual_seed = manual_seed[np.newaxis]\n",
    "view(manual_seed[0])"
   ]
  },
  {
   "cell_type": "code",
   "execution_count": null,
   "id": "f4d51983",
   "metadata": {
    "scrolled": true
   },
   "outputs": [],
   "source": [
    "empty_seed = np.full(manual_seed.shape, 0, dtype=manual_seed.dtype)\n",
    "\n",
    "# Option 1: only middle plane is used as seed\n",
    "zstack_seed = []\n",
    "for z in range(num_z):\n",
    "    if z == 0:\n",
    "        zstack_seed = empty_seed\n",
    "    elif z == mid_z:\n",
    "        zstack_seed = np.concatenate([zstack_seed, manual_seed])\n",
    "    else:\n",
    "        zstack_seed = np.concatenate([zstack_seed, empty_seed])\n",
    "        \n",
    "# Option 2: the middle plane seed is copied to all other stacks to make a cylindrical seed\n",
    "# zstack_seed = []\n",
    "# for z in range(num_z):\n",
    "#     if z == 0:\n",
    "#         zstack_seed = manual_seed\n",
    "#     else:\n",
    "#         zstack_seed = np.concatenate([zstack_seed, manual_seed])\n",
    "\n",
    "zstack_seed.shape"
   ]
  },
  {
   "cell_type": "code",
   "execution_count": null,
   "id": "373d64e1",
   "metadata": {},
   "outputs": [],
   "source": [
    "imsave(output_dir+'final_seed_3d.tif', zstack_seed.astype('uint8'))"
   ]
  },
  {
   "cell_type": "markdown",
   "id": "9d3a010c",
   "metadata": {},
   "source": [
    "### use the final seed to run 3D watershed"
   ]
  },
  {
   "cell_type": "code",
   "execution_count": null,
   "id": "e4d29868",
   "metadata": {
    "scrolled": true
   },
   "outputs": [],
   "source": [
    "# takes some time\n",
    "watershed_mask = watershed(membrane_img_smooth, markers=zstack_seed, watershed_line=True, connectivity=1)"
   ]
  },
  {
   "cell_type": "code",
   "execution_count": null,
   "id": "55efa5c0",
   "metadata": {},
   "outputs": [],
   "source": [
    "imsave(output_dir+'watershed_mask.tif', watershed_mask)\n",
    "\n",
    "view(label(watershed_mask))"
   ]
  },
  {
   "cell_type": "code",
   "execution_count": null,
   "id": "c82acd12",
   "metadata": {},
   "outputs": [],
   "source": [
    "num_label = max(watershed_mask.ravel())\n",
    "print('Labels are 0 to '+str(num_label))"
   ]
  },
  {
   "cell_type": "markdown",
   "id": "18d3c5c0",
   "metadata": {},
   "source": [
    "#### manually check each label and pick labels"
   ]
  },
  {
   "cell_type": "code",
   "execution_count": null,
   "id": "94410a28",
   "metadata": {},
   "outputs": [],
   "source": [
    "label_num = 1\n",
    "mask = watershed_mask == label_num\n",
    "print('Label '+str(label_num))\n",
    "viewer_label = view(membrane_view(mask))\n",
    "viewer_label"
   ]
  },
  {
   "cell_type": "code",
   "execution_count": null,
   "id": "b3476b81",
   "metadata": {},
   "outputs": [],
   "source": [
    "# save all cell crops\n",
    "if os.path.isdir(output_dir+'individual_labels/'):\n",
    "    rmtree(output_dir+'individual_labels/')\n",
    "os.mkdir(output_dir+'individual_labels/')\n",
    "\n",
    "for label_num in range(num_label+1):\n",
    "    mask = watershed_mask == label_num\n",
    "    imsave(output_dir+'individual_labels/label_'+str(label_num)+'.png', mask[len(mask)//2])"
   ]
  },
  {
   "cell_type": "markdown",
   "id": "c5710d83",
   "metadata": {},
   "source": [
    "#### extract desired labels and check"
   ]
  },
  {
   "cell_type": "code",
   "execution_count": null,
   "id": "834a14b9",
   "metadata": {},
   "outputs": [],
   "source": [
    "# enter desired cell labels\n",
    "invalid_labels = [11, 0, 1, 15, 17, 25, 26, 27]\n",
    "# valid_labels = []"
   ]
  },
  {
   "cell_type": "code",
   "execution_count": null,
   "id": "356355e0",
   "metadata": {
    "scrolled": false
   },
   "outputs": [],
   "source": [
    "checked_mask = watershed_mask.copy()\n",
    "# clear the other labels\n",
    "for l in range(num_label+1):\n",
    "    if l in invalid_labels:\n",
    "#     if l not in valid_labels:\n",
    "        mask = watershed_mask == l\n",
    "        checked_mask[mask] = 0\n",
    "        \n",
    "# sort and relabel from 1 to N with 0 as bg\n",
    "checked_mask = label(checked_mask)\n",
    "imsave(output_dir+'checked_mask_3d.tif', checked_mask.astype('uint8'))\n",
    "view(checked_mask)"
   ]
  },
  {
   "cell_type": "code",
   "execution_count": null,
   "id": "243bb4d6",
   "metadata": {
    "scrolled": false
   },
   "outputs": [],
   "source": [
    "# filtered_mask = checked_mask.copy()\n",
    "\n",
    "# ## do closing to close holes if needed, will cause index problem\n",
    "# for z in range(len(checked_mask)):\n",
    "#     filtered_mask[z] = closing(checked_mask[z], disk(10))\n",
    "\n",
    "# final_mask = label(filtered_mask)\n",
    "# imsave(output_dir+'final_mask.tif', final_mask.astype('uint8'))\n",
    "# view(final_mask)"
   ]
  },
  {
   "cell_type": "code",
   "execution_count": null,
   "id": "df902c19",
   "metadata": {},
   "outputs": [],
   "source": [
    "final_mask = checked_mask\n",
    "num_cell = max(final_mask.ravel())\n",
    "num_cell"
   ]
  },
  {
   "cell_type": "code",
   "execution_count": null,
   "id": "53405e29",
   "metadata": {},
   "outputs": [],
   "source": [
    "# save selected crops\n",
    "if os.path.isdir(output_dir+'final_labels/'):\n",
    "    rmtree(output_dir+'final_labels/')\n",
    "os.mkdir(output_dir+'final_labels/')\n",
    "\n",
    "for cell_num in range(1,num_cell+1):\n",
    "    mask = final_mask == cell_num\n",
    "    imsave(output_dir+'final_labels/cell_'+str(cell_num)+'.png', skimage.img_as_ubyte(mask[mid_z]))"
   ]
  },
  {
   "cell_type": "markdown",
   "id": "3cb42b12",
   "metadata": {},
   "source": [
    "### crop mitochondria signal for each segmented cell"
   ]
  },
  {
   "cell_type": "code",
   "execution_count": null,
   "id": "17769bca",
   "metadata": {},
   "outputs": [],
   "source": [
    "## reload data if closed kernel\n",
    "# checked_mask = imread(output_dir+'checked_mask_3d.tif')\n",
    "# num_cell = max(checked_mask.ravel())"
   ]
  },
  {
   "cell_type": "code",
   "execution_count": null,
   "id": "67ab5baf",
   "metadata": {},
   "outputs": [],
   "source": [
    "for n in range(1, num_cell+1): # label 0 is background\n",
    "\n",
    "    count = 0\n",
    "\n",
    "    # make dir for each cell\n",
    "    if n < 10:\n",
    "        cell_dir = output_dir+'cell_0'+str(n)+'/'\n",
    "    else:\n",
    "        cell_dir = output_dir+'cell_'+str(n)+'/'\n",
    "    print('Start cropping cell number '+str(n))\n",
    "\n",
    "    # remove old dir (be careful)\n",
    "    if os.path.isdir(cell_dir):\n",
    "        rmtree(cell_dir)\n",
    "        print('All old files are removed')\n",
    "    os.mkdir(cell_dir)\n",
    "\n",
    "    mask = (checked_mask == n)\n",
    "\n",
    "    for frame in range(3):\n",
    "        mito_img = imread('./mito_frame_'+str(frame)+'.tif')\n",
    "        mito_img = mito_img[bottom_z:top_z]\n",
    "        \n",
    "        region =  regionprops(label(mask), mito_img)[0]\n",
    "        minz, miny, minx, maxz, maxy, maxx = region.bbox\n",
    "\n",
    "        mito_cell = mito_img.copy()\n",
    "        mito_cell[~mask] = 0 # clear signal outside of the cell\n",
    "\n",
    "        # crop the region around the mask\n",
    "        cropped_mito_cell = mito_cell[:, miny:maxy, minx:maxx] # z has already been determined before so no crop\n",
    "\n",
    "        ## mitochondria smoothing (optional)\n",
    "        #cropped_mito_cell = image_smoothing_gaussian_3d(cropped_mito_cell, sigma=1)\n",
    "        #cropped_mito_cell = dog_filter(cropped_mito_cell, gaussian_smoothing_sigma, 0.5)\n",
    "\n",
    "        # make dir for each frame\n",
    "        frame_dir = cell_dir+'frame_'+str(frame)+'/'\n",
    "\n",
    "        # remove old dir (be careful)\n",
    "        if os.path.isdir(frame_dir):\n",
    "            rmtree(frame_dir)\n",
    "        os.mkdir(frame_dir)\n",
    "\n",
    "        count += 1\n",
    "\n",
    "        imsave(frame_dir+'frame_'+str(frame)+'.tif', cropped_mito_cell)\n",
    "\n",
    "    print('Done cropping '+str(count)+' frames')"
   ]
  }
 ],
 "metadata": {
  "kernelspec": {
   "display_name": "Python 3 (ipykernel)",
   "language": "python",
   "name": "python3"
  },
  "language_info": {
   "codemirror_mode": {
    "name": "ipython",
    "version": 3
   },
   "file_extension": ".py",
   "mimetype": "text/x-python",
   "name": "python",
   "nbconvert_exporter": "python",
   "pygments_lexer": "ipython3",
   "version": "3.8.15"
  }
 },
 "nbformat": 4,
 "nbformat_minor": 5
}
