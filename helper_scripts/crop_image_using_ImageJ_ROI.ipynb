{
 "cells": [
  {
   "cell_type": "code",
   "execution_count": null,
   "id": "65e147eb",
   "metadata": {},
   "outputs": [],
   "source": [
    "import numpy as np\n",
    "import os\n",
    "from tifffile import imread, imwrite\n",
    "from shutil import rmtree\n",
    "from tqdm.notebook import trange\n",
    "import subprocess\n",
    "import glob\n",
    "from tqdm import tqdm\n",
    "import time\n",
    "import roifile"
   ]
  },
  {
   "cell_type": "code",
   "execution_count": null,
   "id": "b3f6d0b5",
   "metadata": {},
   "outputs": [],
   "source": [
    "def normalize8(I):\n",
    "    \n",
    "    # use either global estimate or manual threshold\n",
    "    mx = I.max() \n",
    "    # mx = 10000\n",
    "\n",
    "    normalized = I / mx\n",
    "    normalized[normalized>1.0] = 1.0\n",
    "    new = normalized * 255.0\n",
    "    return new.astype(np.uint8) # 8-bit image is required for MitoGraph"
   ]
  },
  {
   "cell_type": "code",
   "execution_count": null,
   "id": "0b730ecb",
   "metadata": {},
   "outputs": [],
   "source": [
    "# the bottom and top z for ROIs, get from the image\n",
    "low_z, high_z = None, None"
   ]
  },
  {
   "cell_type": "code",
   "execution_count": null,
   "id": "9a5822a9",
   "metadata": {},
   "outputs": [],
   "source": [
    "# crop ROI at each timepoint into a folder for mitograph\n",
    "data_path = './tif_folder/'\n",
    "save_path = './segmented_data/'\n",
    "if not os.path.isdir(save_path):\n",
    "    os.makedirs(save_path)\n",
    "\n",
    "# load prepared ROI files\n",
    "roi_path = './ROI/'\n",
    "roi_names = os.listdir(roi_path) # make sure this folder has individual .roi files\n",
    "rois = [roifile.ImagejRoi.fromfile(roi_path+name) for name in roi_names if '.roi' in name]\n",
    "    \n",
    "mito_tif_list = os.listdir(data_path)\n",
    "\n",
    "for frame in trange(len(mito_tif_list)): # loop all timepoints\n",
    "# for frame in trange(1): # test first frame (recommended for first time, check first.)\n",
    "\n",
    "    full_data = imread(data_path+mito_tif_list[frame])\n",
    "\n",
    "    roi_id = 1\n",
    "    for index, roi in enumerate(rois):\n",
    "        roi_id_dir = save_path+'roi_id_'+str(roi_id)+'/'\n",
    "        if not os.path.isdir(roi_id_dir):\n",
    "            os.mkdir(roi_id_dir)\n",
    "            os.mkdir(roi_id_dir+'mitograph/')\n",
    "        zstart,zend,ystart,yend,xstart,xend = [low_z,high_z,roi.top,roi.bottom,roi.left,roi.right]\n",
    "\n",
    "        cropped_data = full_data[zstart:zend, ystart:yend, xstart:xend]\n",
    "        cropped_data = normalize8(cropped_data)\n",
    "\n",
    "        # make dir and save for each frame\n",
    "        frame_dir = roi_id_dir+'mitograph/frame_'+str(frame)+'/'\n",
    "        if not os.path.isdir(frame_dir):\n",
    "            os.mkdir(frame_dir)\n",
    "\n",
    "        print('Writing ROI', roi_id)\n",
    "        imwrite(frame_dir+'frame_'+str(frame)+'.tif', cropped_data)\n",
    "        \n",
    "        roi_id += 1"
   ]
  }
 ],
 "metadata": {
  "kernelspec": {
   "display_name": "Python 3 (ipykernel)",
   "language": "python",
   "name": "python3"
  },
  "language_info": {
   "codemirror_mode": {
    "name": "ipython",
    "version": 3
   },
   "file_extension": ".py",
   "mimetype": "text/x-python",
   "name": "python",
   "nbconvert_exporter": "python",
   "pygments_lexer": "ipython3",
   "version": "3.10.11"
  }
 },
 "nbformat": 4,
 "nbformat_minor": 5
}
