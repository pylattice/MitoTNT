{
 "cells": [
  {
   "cell_type": "markdown",
   "id": "3618984f",
   "metadata": {},
   "source": [
    "# MitoTNT: Mitochondrial Temporal Network Tracking\n",
    "\n",
    "**MitoTNT** is a Python-based pipeline for the tracking, visualization, and dynamic analysis of 4D mitochondrial network data.\n",
    "\n",
    "It is built upon mitochondria segmentation provided by MitoGraph, and visualization engine provided by ChimeraX.  \n",
    "\n",
    "MitoTNT is written by Zichen (Zachary) Wang (ziw056@ucsd.edu), with the help from people in the [Johannes Schöneberg lab](https://www.schoeneberglab.org/) at UCSD.\n"
   ]
  },
  {
   "cell_type": "markdown",
   "id": "b2218f78",
   "metadata": {},
   "source": [
    "# Installation\n",
    "\n",
    "Software requirements:\n",
    "- **[Jupyter Notebook](https://jupyter.org/)** or get it from **[Anaconda](https://www.anaconda.com/products/distribution)**\n",
    "\n",
    "- **[MitoGraph](https://github.com/vianamp/MitoGraph/)** for mitochondria segmentation\n",
    "\n",
    "- **[ChimeraX](https://www.cgl.ucsf.edu/chimerax/)** for tracking visualization\n",
    "\n",
    "Python dependencies: \n",
    "\n",
    "We will create a conda environment that automatically installs all the required dependencies.\n",
    "1. Open anaconda prompt on Windows or just terminal on MacOS/Linux\n",
    "2. Go to the root directory of MitoTNT repository\n",
    "3. Create the enviroment using the provided .yml file: `conda env create --name mitotnt --file=mitotnt_env.yml`\n",
    "\n",
    "\n",
    "To use MitoTNT, first activate the environmnet we created with `conda activate mitotnt`, and then open notebook with `jupyter notebook`.\n"
   ]
  },
  {
   "cell_type": "code",
   "execution_count": null,
   "id": "b671ef9b",
   "metadata": {},
   "outputs": [],
   "source": [
    "import os\n",
    "import numpy as np\n",
    "import pandas as pd\n",
    "import igraph as ig\n",
    "from tqdm.notebook import trange\n",
    "from mitotnt import generate_tracking_inputs, network_tracking, tracking_visualization, detect_fusion_fission, post_analysis\n",
    "\n",
    "# update functions everytime after changes made\n",
    "%load_ext autoreload\n",
    "%autoreload 2"
   ]
  },
  {
   "cell_type": "markdown",
   "id": "1e2e687d",
   "metadata": {},
   "source": [
    "# Network Tracking\n",
    "## 1. Generate inputs for tracking\n",
    "**In this section we will process the raw data into a format that is used for the subsequent tracking.**\n",
    "\n",
    "First specify the directories we will use:\n",
    "- `work_dir`: the directory where data will be processed and stored. For test data, you can use the directory of `test_data` on your machine\n",
    "- `data_dir`: the directory where MitoGraph segmented mitochondria is stored. For test data, this is `test_data/mitograph`.\n",
    "- `input_dir`: the directory where the processed inputs used for tracking will be stored. For test data, you can use `test_data/tracking_inputs`. This is an empty folder that will be created.\n",
    "\n",
    "After specifying the folders, we need to set a few parameters:\n",
    "- `start_frame`, `end_frame`: the range of frames to process.\n",
    "- `frame_interval`: frame interval for the movie in seconds\n",
    "- `node_gap_size`: the number of nodes to skip when creating full-resolution graphs from mitograph `.gnet` files. Default to 0 (use all nodes).\n",
    "\n",
    "All processed inputs will be saved as a single compressed `.npz` file in `input_dir`."
   ]
  },
  {
   "cell_type": "code",
   "execution_count": null,
   "id": "89c551bf",
   "metadata": {},
   "outputs": [],
   "source": [
    "# specify your desired directories (backslash in file directory in Windows needs to be converted to forward slash)\n",
    "work_dir = './test_data/'\n",
    "data_dir = work_dir+'mitograph/'\n",
    "input_dir = work_dir+'tracking_inputs/'\n",
    "if not os.path.isdir(input_dir):\n",
    "    os.mkdir(input_dir)\n",
    "\n",
    "# params for the test data\n",
    "start_frame = 0\n",
    "end_frame = 59\n",
    "frame_interval = 3.253\n",
    "\n",
    "print('Tracking frame {} to {}'.format(start_frame, end_frame))"
   ]
  },
  {
   "cell_type": "code",
   "execution_count": null,
   "id": "b0c5298e",
   "metadata": {
    "scrolled": true
   },
   "outputs": [],
   "source": [
    "# run the function\n",
    "generate_tracking_inputs.generate(data_dir, input_dir,\n",
    "                                  start_frame, end_frame,\n",
    "                                  node_gap_size=0)"
   ]
  },
  {
   "cell_type": "markdown",
   "id": "82b30af3",
   "metadata": {},
   "source": [
    "## 2. Frame-to-frame tracking\n",
    "**In this section we will perform node assignments for each consecutive frames.**\n",
    "\n",
    "In addition to the directories declared above, we will create `output_dir` to store the tracking outputs. For test data, you can use `test_data/tracking_outputs`.\n",
    "\n",
    "Additional parameters needed for frame-to-frame tracking:\n",
    "- `tracking_interval`: the frame interval between the two frames to be tracked. Default to 1 (every consecutive frame).  \n",
    "\n",
    "Distance threshold is computed as the minimum of two values: 1) the distance to the N-th closest neighbor where N is given by `cutoff_num_neighbor`, default to 10; 2) the frame interval times the maximum allowed speed given by `cutoff_speed`, default to `None` and estimated from the distance matrix.\n",
    "\n",
    "- `graph_matching_depth`: the maximum level used for graph comparison. Default to 2 (usually sufficient).\n",
    "- `dist_exponent`, `top_exponent`: the final cost term is given by D<sup>dist_exponent</sup> x T<sup>top_exponent</sup>, where D, T are the distance and topology costs respectively. Default both to 1 (equal weighting).\n"
   ]
  },
  {
   "cell_type": "code",
   "execution_count": null,
   "id": "839c433c",
   "metadata": {},
   "outputs": [],
   "source": [
    "# specify additional directories\n",
    "output_dir = work_dir+'tracking_outputs/'\n",
    "if not os.path.isdir(output_dir):\n",
    "    os.mkdir(output_dir)\n",
    "    \n",
    "start_frame = 0\n",
    "end_frame = 59\n",
    "tracking_interval = 1"
   ]
  },
  {
   "cell_type": "code",
   "execution_count": null,
   "id": "8f83e212",
   "metadata": {
    "scrolled": true
   },
   "outputs": [],
   "source": [
    "# run the function\n",
    "network_tracking.frametoframe_tracking(input_dir, output_dir, start_frame, end_frame, frame_interval, tracking_interval,\n",
    "                                       cutoff_num_neighbor=8, cutoff_speed=None,\n",
    "                                       graph_matching_depth=2, dist_exponent=1, top_exponent=1)"
   ]
  },
  {
   "cell_type": "markdown",
   "id": "d8e0cedf",
   "metadata": {},
   "source": [
    "## 3. Gap closing\n",
    "**In this section we attempt to merge tracks that are mistakenly terminated during frame-to-frame tracking.**\n",
    "\n",
    "Additional parameters need to be set:\n",
    "- `min_track_size`: the minimum number of frames for the tracks to be kept. Default to 5.\n",
    "- `max_gap_size`: the maximum number of frames for which gap closing is allowed. Default to 3. Value of 1 indicates no gap closing.\n",
    "- `block_size_factor`: values less than 1 allows the sliding block implementation of gap closing to prevent memory overflow due to large cost matrix. The size of the block is given by `block_size_factor` * total number of tracks to be closed. Default to 1 (close all tracks at once).\n",
    "\n",
    "The final node trajectories are saved in `final_node_tracks.csv` file.  \n",
    "Each row is one node at one time point.  \n",
    "Each column is an attribute of the given node, described below."
   ]
  },
  {
   "cell_type": "code",
   "execution_count": null,
   "id": "0323476c",
   "metadata": {
    "scrolled": false
   },
   "outputs": [],
   "source": [
    "network_tracking.gap_closing(input_dir, output_dir, start_frame, end_frame, tracking_interval,\n",
    "                             min_track_size=4, max_gap_size=3, block_size_factor=1)"
   ]
  },
  {
   "cell_type": "markdown",
   "id": "cd6e707d",
   "metadata": {},
   "source": [
    "## 4. Evaluate output data format\n",
    "\n",
    "The final node trajectories are saved in final_node_tracks.csv file.  \n",
    "Each row is one node at one time point.  \n",
    "Each column is an attribute of the given node, described below.  \n",
    "\n",
    "### Columns\n",
    "\n",
    "- `frame_id`: frame number of the node.\n",
    "- `frame_node_id`: node id at the given frame. Each frame has its own indexing.\n",
    "- `unique_node_id`: node id shared by all the nodes in the same track at different frames. Each track is uniquely indexed throughout the whole trajectory. This is essetially the tracking information.\n",
    "- `frame_seg_id`: segment id for all the nodes in the same segment. Each frame has its own indexing. The branching points are not assigned.\n",
    "- `frame_frag_id`: fragment id for all the nodes in the same connected component. Each frame has its own indexing.\n",
    "- `connected_unique_node_id`: unique_node_id for neigboring nodes in the graph. This has all the topology information.\n",
    "- `x`, `y`, `z`: coordinates for the node.\n",
    "- `intensity`, `width`: pixel intensity and tubular width for the node given by MitoGraph."
   ]
  },
  {
   "cell_type": "markdown",
   "id": "8c7d72ce",
   "metadata": {},
   "source": [
    "# Visualization\n",
    "**In this section we will visualize the tracked mitochondrial networks in ChimeraX**\n",
    "\n",
    "**Please first download [ChimeraX](https://www.cgl.ucsf.edu/chimerax/)**\n",
    "\n",
    "We need to specify the directory to save visualization files\n",
    "- `vis_dir`: store `.cxc` commands to load in ChimeraX. You can use `work_dir/chimerax_visualization/` for example.\n",
    "- `vis_data_dir`: store `.cmap ` and `.bild` files created for each frame and used for visualization. You can use `vis_dir/data/` for example."
   ]
  },
  {
   "cell_type": "code",
   "execution_count": null,
   "id": "a7d51e1f",
   "metadata": {},
   "outputs": [],
   "source": [
    "# specify the directory for storing processed data\n",
    "vis_dir = work_dir+'chimerax_visualization/'\n",
    "vis_data_dir = vis_dir+'data/'\n",
    "if not os.path.isdir(vis_dir):\n",
    "    os.mkdir(vis_dir)\n",
    "if not os.path.isdir(vis_data_dir):\n",
    "    os.mkdir(vis_data_dir)\n",
    "\n",
    "# visualizing tracks can take some time, recommend to start with a few frames\n",
    "start_frame = 0\n",
    "end_frame = 2"
   ]
  },
  {
   "cell_type": "markdown",
   "id": "649e998c",
   "metadata": {},
   "source": [
    "### 1. Create ChimeraX rendering of the skeleton (optional but recommended)\n",
    "We can use MitoGraph-generated `*skeleton.vtk` files for visualizing skeleton, but this is not ideal because it has fixed width and color.\\\n",
    "Alternatively here, we can render the skeleton using BILD format in ChimeraX. This allows us to set the skeleton sizes, node sizes and color. However, it also takes much longer to load in ChimeraX.\n",
    "- `skeleton_colors`: a list of two colors to render for current and next frames. We use blue for current frame and red for next frame. [See more colors.](https://www.cgl.ucsf.edu/chimerax/docs/user/commands/colornames.html)\n",
    "- `skeleton_size`: diameter of the skeleton that connects nodes.\n",
    "- `node_size`: diameter of the spheres that make up the nodes. If `node_size`= `skeleton_size`, the nodes are not visible (but still required to fill the gaps along the skeletons)."
   ]
  },
  {
   "cell_type": "code",
   "execution_count": null,
   "id": "60cc9fd9",
   "metadata": {
    "scrolled": true
   },
   "outputs": [],
   "source": [
    "tracking_visualization.generate_chimerax_skeleton(input_dir, vis_dir, vis_data_dir,\n",
    "                                                  start_frame, end_frame, tracking_interval,\n",
    "                                                  skeleton_colors=['blue','red'],\n",
    "                                                  skeleton_size=0.035, node_size=0.035)"
   ]
  },
  {
   "cell_type": "markdown",
   "id": "283d9c05",
   "metadata": {},
   "source": [
    "### 2. Create ChimeraX rendering of tracking vectors\n",
    "We will use the frame-to-frame node assignments to draw the tracking vectors for two frames.\n",
    "- `arrow_color`: color of the tracking arrows. Default to black.\n",
    "- `arrow_size`: diameter of the tracking arrow stem."
   ]
  },
  {
   "cell_type": "code",
   "execution_count": null,
   "id": "0bacbef0",
   "metadata": {},
   "outputs": [],
   "source": [
    "tracking_visualization.generate_tracking_arrows(input_dir, output_dir, vis_data_dir, \n",
    "                                                start_frame, end_frame, tracking_interval,\n",
    "                                                arrow_color='black', arrow_size=0.035)"
   ]
  },
  {
   "cell_type": "markdown",
   "id": "11f9334d",
   "metadata": {},
   "source": [
    "### 3. Visualize network tracking in ChimeraX\n",
    "Now we can combine the visualization files created above to visualize the tracking of timelapse data.\n",
    "- `show_tif`: if true include fluorescence cloud in background. \n",
    "- `voxel_size`: voxel_size same as that used for MitoGraph segmentation, in the order of x,y,z.  \n",
    "For example, `voxel_size='0.2,0.2,0.4'` refers to lateral pixel size 0.2 μm and axial pixel size 0.4 μm.\n",
    "- `tif_colors`: color of fluorescence cloud. See [colors](https://www.cgl.ucsf.edu/chimerax/docs/user/commands/colornames.html).\n",
    "- `threshold_level`: if you want to change the contrast/thickness of the fluorescence cloud, use the [level argument](https://www.cgl.ucsf.edu/chimerax/docs/user/commands/volume.html) in ChimeraX.\n",
    "- `use_chimerax_skeleton`:\\\n",
    "if true use BILD format skeleton which is more flexible but slower to load;\\\n",
    "if false use mitograph-generated .vtk files of fixed color and size (not recommended but quicker).\n",
    "- `skeleton_colors`: same as in step 2.\n",
    "\n",
    "**Open chimerax_visualization/visualize_tracking.cxc in ChimeraX. This may take some time. Click Home -> Backgound -> White to see it better.**"
   ]
  },
  {
   "cell_type": "code",
   "execution_count": null,
   "id": "eb4ba0e7",
   "metadata": {},
   "outputs": [],
   "source": [
    "tracking_visualization.visualize_tracking(data_dir, input_dir, vis_dir, vis_data_dir,\n",
    "                                          start_frame, end_frame, tracking_interval,\n",
    "                                          show_tif=True, voxel_size='0.145,0.145,0.145', tif_colors=['deep sky blue','tomato'], threshold_level='', \n",
    "                                          use_chimerax_skeleton=True, skeleton_colors=['blue','red'])"
   ]
  },
  {
   "cell_type": "markdown",
   "id": "6f10b5d5",
   "metadata": {},
   "source": [
    "# Post Analysis\n",
    "## Detect Remodeling Events\n",
    "**In this section we will detect nodes that undergo fusion or fission events based on the tracking results.**\n",
    "\n",
    "This is done using a sliding-window approach to identify nodes that undergo persistent structural changes as opposed to transient segmentation differences.  \n",
    "First, the fragment indices for each node are recorded for the `half_win_size` frames before and after the current frame, to form the fragment list.  \n",
    "Second, for each network edge, the fragment lists for the connected nodes are compared.  \n",
    "Finally, Fission will be declared if the fragment lists before the current frame are strictly identical, as well as the fragment lists after the current frame are strictly non-overlapping. \n",
    "Since fusion events can be considered as fission events reversed in time, the opposite criterion is used for fusion detection.\n",
    "Note because of the sliding window approach:\n",
    "`start_frame` must be >= `half_win_size` and `end_frame` must be <= `end_frame`-`start_frame` - `half_win_size`.\n",
    "\n",
    "We need to specify the directory for saving post-tracking analysis results:\n",
    "\n",
    "- `analysis_dir`: umbrella directory for post-tracking analysis. A choice is `work_dir+'post_analysis/'`. \n",
    "\n",
    "- `analy_remodeling_dir`: directory for saving fusion/fission measurements. This can be a subfolder in `analysis_dir`, for example `analysis_dir+'remodeling/'`.  \n",
    "\n",
    "Other parameters specific for detection of remodeling events:\n",
    "- `stride_size`: step size for sliding the window in number of frames. Default to 1 (to detect events happening in every frame).\n",
    "\n",
    "- `half_win_size`: size of the half sliding window in number of frames. The higher the value the stricter the requirement for calling fusion/fission. Default to 4.\n",
    "\n",
    "- `min_tracked_frames`: minimum number of frames that are tracked in either of the half windows in order to declare an event. Default to 2."
   ]
  },
  {
   "cell_type": "code",
   "execution_count": null,
   "id": "3be42a7d",
   "metadata": {},
   "outputs": [],
   "source": [
    "# specify directories\n",
    "analysis_dir = work_dir+'post_analysis/'\n",
    "analy_remodeling_dir = analysis_dir+'remodeling/'\n",
    "if not os.path.isdir(analysis_dir):\n",
    "    os.mkdir(analysis_dir)\n",
    "if not os.path.isdir(analy_remodeling_dir):\n",
    "    os.mkdir(analy_remodeling_dir)"
   ]
  },
  {
   "cell_type": "code",
   "execution_count": null,
   "id": "e7720eb2",
   "metadata": {},
   "outputs": [],
   "source": [
    "start_frame = 0\n",
    "end_frame = 59\n",
    "half_win_size = 4\n",
    "detect_fusion_fission.detect(input_dir, output_dir, analy_remodeling_dir, start_frame=half_win_size, end_frame=end_frame-half_win_size,\n",
    "                             stride_size=1,\n",
    "                             half_win_size=half_win_size,\n",
    "                             min_tracked_frames=2)"
   ]
  },
  {
   "cell_type": "markdown",
   "id": "10358cc3",
   "metadata": {},
   "source": [
    "### output data format\n",
    "Multiple remodeling nodes located in proximity (less than 5 edges away) are grouped into a single fission/fusion site. The columns are explained below.\n",
    "\n",
    "- `type`: fusion or fission\n",
    "\n",
    "- `frame_id`: a single frame number for describing when the event happens\n",
    "\n",
    "- `frame_id_before`: the frame numbers before the event for each detected node (may be different due to gap closing)\n",
    "\n",
    "- `frame_id_after`: the frame numbers after the event for each detected node (may be different due to gap closing)\n",
    "\n",
    "- `node_id_before`: the `frame_node_id` at corresponding frame before the event for each detected node\n",
    "\n",
    "- `node_id_after`: the `frame_node_id` at corresponding frame after the event for each detected node\n",
    "\n",
    "- `frag_id_before`: the `frame_frag_id` at corresponding frame before the event for each detected node\n",
    "\n",
    "- `frag_id_after`: the `frame_frag_id` at corresponding frame after the event for each detected node\n",
    "\n",
    "- `unique_node_id`: the `unique_node_id` for each detected node\n",
    "\n",
    "`frame_node_id`, `frame_frag_id`, `unique_node_id` are as defined in the node tracking outputs\n",
    "\n"
   ]
  },
  {
   "cell_type": "markdown",
   "id": "d58f7953",
   "metadata": {},
   "source": [
    "# Post Analysis\n",
    "## Motility Measurements\n",
    "**In this section we will use the tracking results to compute diffusivity at three levels of description and visualize motility in space.**\n",
    "\n",
    "The diffusision coeffients can be computed for 1) nodes, 2) segments, 3) fragments, in the order of higher level of coarse graining.  \n",
    "\n",
    "We need to specify the directory for save post analysis results:\n",
    "\n",
    "- `analysis_dir`: umbrella directory for post analysis. A good choice is `work_dir+'post_analysis/'`. \n",
    "\n",
    "- `analy_motility_dir`: directory for saving motility measurements. This is usually a subfolder in `analysis_dir`, for example `analysis_dir+'motility/'`.  "
   ]
  },
  {
   "cell_type": "code",
   "execution_count": null,
   "id": "97f56b2c",
   "metadata": {},
   "outputs": [],
   "source": [
    "# specify directories\n",
    "analysis_dir = work_dir+'post_analysis/'\n",
    "analy_motility_dir = analysis_dir+'motility/'\n",
    "if not os.path.isdir(analysis_dir):\n",
    "    os.mkdir(analysis_dir)\n",
    "if not os.path.isdir(analy_motility_dir):\n",
    "    os.mkdir(analy_motility_dir)"
   ]
  },
  {
   "cell_type": "markdown",
   "id": "c92e1083",
   "metadata": {},
   "source": [
    "Information needed for computing MSD vs. time delay curve:\n",
    "\n",
    "- `max_tau`: maximum number of frames/datapoints used for linear regression. Default to 5.\n",
    "\n",
    "Additional information for computing segment and fragment level diffusivity:\n",
    "\n",
    "- `selected_frames`: because segment and fragments undergo constant remodeling, we need to select the frames at which the segment and fragments are evaluated. This is recommended to be separated by 2x half window size (see below). Each frame will be visualized separately.\n",
    "\n",
    "- `half_win_size `: the time window size (frames) before and after the selected center frames for collecting track coordinates. Default to 10.\n",
    "\n",
    "- `tracked_ratio`: the minimum ratio of tracked nodes in each segment/fragment to be qualified for calculating diffusivity. Default to 0.5. "
   ]
  },
  {
   "cell_type": "markdown",
   "id": "9b34e7bb",
   "metadata": {},
   "source": [
    "### node diffusivity"
   ]
  },
  {
   "cell_type": "code",
   "execution_count": null,
   "id": "ce46f0af",
   "metadata": {},
   "outputs": [],
   "source": [
    "post_analysis.compute_node_diffusivity(input_dir, output_dir, analy_motility_dir, frame_interval, max_tau=5)"
   ]
  },
  {
   "cell_type": "markdown",
   "id": "7e0d34b7",
   "metadata": {},
   "source": [
    "### segment diffusivity"
   ]
  },
  {
   "cell_type": "code",
   "execution_count": null,
   "id": "7cf484f4",
   "metadata": {
    "scrolled": false
   },
   "outputs": [],
   "source": [
    "post_analysis.compute_segment_diffusivity(input_dir, output_dir, analy_motility_dir,\n",
    "                                          frame_interval, max_tau=5, tracked_ratio=0.3, half_win_size=10, selected_frames=[10])"
   ]
  },
  {
   "cell_type": "markdown",
   "id": "4819fd13",
   "metadata": {},
   "source": [
    "### fragment diffusivity"
   ]
  },
  {
   "cell_type": "code",
   "execution_count": null,
   "id": "dd56a6f5",
   "metadata": {},
   "outputs": [],
   "source": [
    "post_analysis.compute_fragment_diffusivity(input_dir, output_dir, analy_motility_dir,\n",
    "                                           frame_interval, max_tau=5, tracked_ratio=0.3, half_win_size=10, selected_frames=[10])"
   ]
  },
  {
   "cell_type": "markdown",
   "id": "07a3f684",
   "metadata": {},
   "source": [
    "### output data format\n",
    "Each row is a node/segment/fragment. The columns are explained below.\n",
    "\n",
    " - `center_frame_id`: selected frame for determining the segment/fragment diffusivity. N/A for node diffusivity.\n",
    " \n",
    " - `unique_node_id` as in `final_node_tracks.csv`. `seg_id`, `frag_id` are specific to `center_frame_id`.\n",
    "\n",
    " - `diffusivity`: slope of MSD vs. time delay curve divided by 6 to account for 3D random walk.\n",
    "\n",
    " - `msd`: MSD per frame, euqal to 6 x diffusivity x frame interval\n",
    "\n",
    " - `r_squared`: coefficient of determination for the linear regression.\n",
    "\n",
    " - `num_points`: number of points in MSD vs. time delay curve used for linear regression."
   ]
  },
  {
   "cell_type": "markdown",
   "id": "4675da83",
   "metadata": {},
   "source": [
    "### visualize motility\n",
    "**In this section we will color the mitochondrial network by the local motility, again at three levels.**"
   ]
  },
  {
   "cell_type": "code",
   "execution_count": null,
   "id": "553fe4d7",
   "metadata": {},
   "outputs": [],
   "source": [
    "post_analysis.map_node_motility_onto_surface(input_dir, output_dir, analy_motility_dir,\n",
    "                                             node_size=0.2, selected_frames=[10])"
   ]
  },
  {
   "cell_type": "code",
   "execution_count": null,
   "id": "b56903d2",
   "metadata": {},
   "outputs": [],
   "source": [
    "post_analysis.map_segment_motility_onto_surface(input_dir, output_dir, analy_motility_dir,\n",
    "                                                node_size=0.2, selected_frames=[10])"
   ]
  },
  {
   "cell_type": "code",
   "execution_count": null,
   "id": "ca3be503",
   "metadata": {},
   "outputs": [],
   "source": [
    "post_analysis.map_fragment_motility_onto_surface(input_dir, output_dir, analy_motility_dir,\n",
    "                                                 node_size=0.2, selected_frames=[10])"
   ]
  }
 ],
 "metadata": {
  "kernelspec": {
   "display_name": "Python 3 (ipykernel)",
   "language": "python",
   "name": "python3"
  },
  "language_info": {
   "codemirror_mode": {
    "name": "ipython",
    "version": 3
   },
   "file_extension": ".py",
   "mimetype": "text/x-python",
   "name": "python",
   "nbconvert_exporter": "python",
   "pygments_lexer": "ipython3",
   "version": "3.10.12"
  }
 },
 "nbformat": 4,
 "nbformat_minor": 5
}
